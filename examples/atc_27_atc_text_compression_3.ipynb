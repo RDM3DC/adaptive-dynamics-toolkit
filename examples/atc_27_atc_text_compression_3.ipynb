{
 "cells": [
  {
   "cell_type": "markdown",
   "id": "a40b9054",
   "metadata": {},
   "source": [
    "# ATC Text Compression #3\n",
    "Roundtrip encode/decode with a repeated phrase x25."
   ]
  },
  {
   "cell_type": "code",
   "execution_count": null,
   "id": "22775984",
   "metadata": {},
   "outputs": [],
   "source": [
    "from adaptive_dynamics.compress import atc\n",
    "s = ('In curved spaces, constants may adapt locally. ' * 25)\n",
    "enc = atc.encode_text(s); dec = atc.decode_text(enc)\n",
    "ratio = len(enc)/len(s)\n",
    "print('Encoded bytes:', len(enc), 'Raw chars:', len(s), 'Ratio:', round(ratio,3))\n",
    "print('Roundtrip OK:', dec == s)"
   ]
  }
 ],
 "metadata": {},
 "nbformat": 4,
 "nbformat_minor": 5
}
