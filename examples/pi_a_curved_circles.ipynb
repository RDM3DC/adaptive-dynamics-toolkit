{
 "cells": [
  {
   "cell_type": "markdown",
   "id": "a2c72c16",
   "metadata": {},
   "source": [
    "# Adaptive π (πₐ) — Curved Circles Demo\n",
    "This notebook shows how a simple curvature field can adjust the local value of π, and thus the circumference of circles.\n",
    "\n",
    "**Idea:** use a curvature function `k(x,y)`; a toy first‑order correction is `πₐ = π · (1 + 0.5·k)`.\n",
    "In the flat limit `k=0`, we recover Euclidean π exactly."
   ]
  },
  {
   "cell_type": "code",
   "execution_count": null,
   "id": "8dcd20d4",
   "metadata": {},
   "outputs": [],
   "source": [
    "import numpy as np\n",
    "import matplotlib.pyplot as plt\n",
    "from adaptive_dynamics.pi import AdaptivePi\n",
    "\n",
    "# Define a gentle curvature field (e.g., a Gaussian bump)\n",
    "def k_field(x, y):\n",
    "    return 0.25*np.exp(-((x**2 + y**2)/0.8)) - 0.05  # small negative baseline, positive bump near origin\n",
    "\n",
    "pi_a = AdaptivePi(curvature_fn=k_field)\n",
    "print('Flat-limit check (k=0):', np.isclose(AdaptivePi().pi_a(0.0, 0.0), np.pi))\n",
    "print('Example π_a at (0,0):', pi_a.pi_a(0.0,0.0))"
   ]
  },
  {
   "cell_type": "code",
   "execution_count": null,
   "id": "e32d7016",
   "metadata": {},
   "outputs": [],
   "source": [
    "# Compare circumferences for several radii centered at the origin\n",
    "radii = [0.5, 0.8, 1.1]\n",
    "fig, ax = plt.subplots()\n",
    "ax.set_aspect('equal', adjustable='box')\n",
    "ax.set_title('Curved vs Euclidean circles (center at origin)')\n",
    "theta = np.linspace(0, 2*np.pi, 512)\n",
    "for r in radii:\n",
    "    # Euclidean circle\n",
    "    ax.plot(r*np.cos(theta), r*np.sin(theta), linestyle='--', label=f'Eucl. r={r}')\n",
    "    # Adaptive circle: visualize circumference change as radius scaled by π_a/π at center\n",
    "    scale = pi_a.pi_a(0.0, 0.0)/np.pi\n",
    "    ax.plot(scale*r*np.cos(theta), scale*r*np.sin(theta), label=f'Adaptive r={r} (scale={scale:.3f})')\n",
    "ax.legend(loc='best'); plt.show()"
   ]
  },
  {
   "cell_type": "markdown",
   "id": "9c9aecf6",
   "metadata": {},
   "source": [
    "### Varying center position\n",
    "The scale can change with position because πₐ depends on `k(x,y)`. Let's compare circles centered at different points."
   ]
  },
  {
   "cell_type": "code",
   "execution_count": null,
   "id": "a7efd232",
   "metadata": {},
   "outputs": [],
   "source": [
    "centers = [(0,0), (0.8,0.0), (-0.8,0.5)]\n",
    "r = 0.8\n",
    "fig, axes = plt.subplots(1, 3, figsize=(12,4))\n",
    "theta = np.linspace(0, 2*np.pi, 512)\n",
    "for ax, (cx, cy) in zip(axes, centers):\n",
    "    ax.set_aspect('equal', adjustable='box')\n",
    "    ax.set_title(f'center=({cx},{cy})')\n",
    "    ax.plot(cx + r*np.cos(theta), cy + r*np.sin(theta), linestyle='--')\n",
    "    s = pi_a.pi_a(cx, cy)/np.pi\n",
    "    ax.plot(cx + s*r*np.cos(theta), cy + s*r*np.sin(theta))\n",
    "plt.show()"
   ]
  },
  {
   "cell_type": "markdown",
   "id": "06db3398",
   "metadata": {},
   "source": [
    "> Tip: For more realistic geometry, replace the toy `πₐ` with your Gauss–Bonnet machinery."
   ]
  }
 ],
 "metadata": {
  "language_info": {
   "name": "python"
  }
 },
 "nbformat": 4,
 "nbformat_minor": 5
}
