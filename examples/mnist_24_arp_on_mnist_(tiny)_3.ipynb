{
 "cells": [
  {
   "cell_type": "markdown",
   "id": "7d9e75c8",
   "metadata": {},
   "source": [
    "# ARP on MNIST (Tiny) #3\n",
    "Minimal MNIST classifier using ARP for 5 epochs (requires torchvision)."
   ]
  },
  {
   "cell_type": "code",
   "execution_count": null,
   "id": "69088f66",
   "metadata": {},
   "outputs": [],
   "source": [
    "import torch, torch.nn as nn\n",
    "from torch.utils.data import DataLoader\n",
    "from torchvision import datasets, transforms\n",
    "from adaptive_dynamics.arp.optimizers import ARP\n",
    "device = 'cuda' if torch.cuda.is_available() else 'cpu'\n",
    "\n",
    "tfm = transforms.Compose([transforms.ToTensor()])\n",
    "train = datasets.MNIST(root='./data', train=True,  transform=tfm, download=True)\n",
    "test  = datasets.MNIST(root='./data', train=False, transform=tfm, download=True)\n",
    "train_loader = DataLoader(train, batch_size=128, shuffle=True)\n",
    "test_loader  = DataLoader(test,  batch_size=256)\n",
    "\n",
    "model = nn.Sequential(nn.Flatten(), nn.Linear(28*28, 128), nn.ReLU(), nn.Linear(128,10)).to(device)\n",
    "opt = ARP(model.parameters(), lr=0.006, alpha=0.01, mu=0.001)\n",
    "loss_fn = nn.CrossEntropyLoss()\n",
    "\n",
    "def eval_acc():\n",
    "    model.eval(); c=0; t=0\n",
    "    with torch.no_grad():\n",
    "        for X,y in test_loader:\n",
    "            X,y = X.to(device), y.to(device)\n",
    "            p = model(X).argmax(1)\n",
    "            c += (p==y).sum().item(); t += y.numel()\n",
    "    return c/t\n",
    "\n",
    "for ep in range(1, 5+1):\n",
    "    model.train()\n",
    "    for X,y in train_loader:\n",
    "        X,y = X.to(device), y.to(device)\n",
    "        loss = loss_fn(model(X), y)\n",
    "        loss.backward(); opt.step(); opt.zero_grad()\n",
    "    print('epoch', ep, 'acc=', round(eval_acc(),3))"
   ]
  }
 ],
 "metadata": {},
 "nbformat": 4,
 "nbformat_minor": 5
}
