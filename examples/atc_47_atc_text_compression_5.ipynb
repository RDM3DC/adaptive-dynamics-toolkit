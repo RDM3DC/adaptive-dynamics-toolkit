{
 "cells": [
  {
   "cell_type": "markdown",
   "id": "b6efed4b",
   "metadata": {},
   "source": [
    "# ATC Text Compression #5\n",
    "Roundtrip encode/decode with a repeated phrase x35."
   ]
  },
  {
   "cell_type": "code",
   "execution_count": null,
   "id": "1a8c9310",
   "metadata": {},
   "outputs": [],
   "source": [
    "from adaptive_dynamics.compress import atc\n",
    "s = ('In curved spaces, constants may adapt locally. ' * 35)\n",
    "enc = atc.encode_text(s); dec = atc.decode_text(enc)\n",
    "ratio = len(enc)/len(s)\n",
    "print('Encoded bytes:', len(enc), 'Raw chars:', len(s), 'Ratio:', round(ratio,3))\n",
    "print('Roundtrip OK:', dec == s)"
   ]
  }
 ],
 "metadata": {},
 "nbformat": 4,
 "nbformat_minor": 5
}
