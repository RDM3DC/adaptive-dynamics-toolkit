{
 "cells": [
  {
   "cell_type": "markdown",
   "id": "a3bfbfbc",
   "metadata": {},
   "source": [
    "# Adaptive Beam Trajectory #4\n",
    "2D charged-particle toy trajectory with alpha=0.036, beta=0.016, steps=1600."
   ]
  },
  {
   "cell_type": "code",
   "execution_count": null,
   "id": "91af86c2",
   "metadata": {},
   "outputs": [],
   "source": [
    "import numpy as np, matplotlib.pyplot as plt\n",
    "from adaptive_dynamics.sim.beams import Beam2D\n",
    "b = Beam2D(alpha=0.036, beta=0.016)\n",
    "traj = b.integrate(x0=0.0, y0=0.0, vx0=0.5, vy0=0.1, steps=1600, dt=0.01)\n",
    "plt.plot(traj[:,0], traj[:,1]); plt.title('Adaptive beam trajectory (toy)')\n",
    "plt.xlabel('x'); plt.ylabel('y'); plt.gca().set_aspect('equal','box'); plt.show()"
   ]
  }
 ],
 "metadata": {},
 "nbformat": 4,
 "nbformat_minor": 5
}
