{
 "cells": [
  {
   "cell_type": "markdown",
   "id": "7526e178",
   "metadata": {},
   "source": [
    "# ATC Text Compression #1\n",
    "Roundtrip encode/decode with a repeated phrase x15."
   ]
  },
  {
   "cell_type": "code",
   "execution_count": null,
   "id": "9b9b53b8",
   "metadata": {},
   "outputs": [],
   "source": [
    "from adaptive_dynamics.compress import atc\n",
    "s = ('In curved spaces, constants may adapt locally. ' * 15)\n",
    "enc = atc.encode_text(s); dec = atc.decode_text(enc)\n",
    "ratio = len(enc)/len(s)\n",
    "print('Encoded bytes:', len(enc), 'Raw chars:', len(s), 'Ratio:', round(ratio,3))\n",
    "print('Roundtrip OK:', dec == s)"
   ]
  }
 ],
 "metadata": {},
 "nbformat": 4,
 "nbformat_minor": 5
}
