{
 "cells": [
  {
   "cell_type": "markdown",
   "id": "e58041f2",
   "metadata": {},
   "source": [
    "# Adaptive Beam Trajectory #3\n",
    "2D charged-particle toy trajectory with alpha=0.032, beta=0.014, steps=1500."
   ]
  },
  {
   "cell_type": "code",
   "execution_count": null,
   "id": "6fbb449d",
   "metadata": {},
   "outputs": [],
   "source": [
    "import numpy as np, matplotlib.pyplot as plt\n",
    "from adaptive_dynamics.sim.beams import Beam2D\n",
    "b = Beam2D(alpha=0.032, beta=0.014)\n",
    "traj = b.integrate(x0=0.0, y0=0.0, vx0=0.5, vy0=0.1, steps=1500, dt=0.01)\n",
    "plt.plot(traj[:,0], traj[:,1]); plt.title('Adaptive beam trajectory (toy)')\n",
    "plt.xlabel('x'); plt.ylabel('y'); plt.gca().set_aspect('equal','box'); plt.show()"
   ]
  }
 ],
 "metadata": {},
 "nbformat": 4,
 "nbformat_minor": 5
}
