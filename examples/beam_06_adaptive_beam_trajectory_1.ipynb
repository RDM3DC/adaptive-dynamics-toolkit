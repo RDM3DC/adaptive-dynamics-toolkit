{
 "cells": [
  {
   "cell_type": "markdown",
   "id": "ebe29f24",
   "metadata": {},
   "source": [
    "# Adaptive Beam Trajectory #1\n",
    "2D charged-particle toy trajectory with alpha=0.024, beta=0.01, steps=1300."
   ]
  },
  {
   "cell_type": "code",
   "execution_count": null,
   "id": "d1d5e324",
   "metadata": {},
   "outputs": [],
   "source": [
    "import numpy as np, matplotlib.pyplot as plt\n",
    "from adaptive_dynamics.sim.beams import Beam2D\n",
    "b = Beam2D(alpha=0.024, beta=0.01)\n",
    "traj = b.integrate(x0=0.0, y0=0.0, vx0=0.5, vy0=0.1, steps=1300, dt=0.01)\n",
    "plt.plot(traj[:,0], traj[:,1]); plt.title('Adaptive beam trajectory (toy)')\n",
    "plt.xlabel('x'); plt.ylabel('y'); plt.gca().set_aspect('equal','box'); plt.show()"
   ]
  }
 ],
 "metadata": {},
 "nbformat": 4,
 "nbformat_minor": 5
}
