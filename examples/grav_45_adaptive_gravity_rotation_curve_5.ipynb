{
 "cells": [
  {
   "cell_type": "markdown",
   "id": "4613fa45",
   "metadata": {},
   "source": [
    "# Adaptive Gravity Rotation Curve #5\n",
    "Toy rotation curve with k=0.2, r0=1.8."
   ]
  },
  {
   "cell_type": "code",
   "execution_count": null,
   "id": "20db0aa0",
   "metadata": {},
   "outputs": [],
   "source": [
    "import numpy as np, matplotlib.pyplot as plt\n",
    "from adaptive_dynamics.sim.gravity import AdaptiveGravity, adaptive_G\n",
    "g = AdaptiveGravity(lambda r: adaptive_G(r, G0=1.0, k=0.2, r0=1.8))\n",
    "r = np.linspace(0.2, 12.0, 300)\n",
    "plt.plot(r, g.circular_velocity(r), label='Adaptive v(r)')\n",
    "plt.xlabel('r'); plt.ylabel('v'); plt.title('Adaptive rotation curve (toy)'); plt.legend(); plt.show()"
   ]
  }
 ],
 "metadata": {},
 "nbformat": 4,
 "nbformat_minor": 5
}
