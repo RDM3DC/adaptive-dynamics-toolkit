{
 "cells": [
  {
   "cell_type": "markdown",
   "id": "626ecad2",
   "metadata": {},
   "source": [
    "# TSP Toolpath Variant #4\n",
    "Nearest-neighbor tour on 120 points (seed=104)."
   ]
  },
  {
   "cell_type": "code",
   "execution_count": null,
   "id": "62c74fbd",
   "metadata": {},
   "outputs": [],
   "source": [
    "import numpy as np, matplotlib.pyplot as plt\n",
    "from adaptive_dynamics.tsp.slicer import optimize_path\n",
    "from adaptive_dynamics.tsp.postproc import reorder_path\n",
    "rng = np.random.default_rng(104)\n",
    "pts = rng.uniform(-1,1,(120,2))\n",
    "order = optimize_path(pts); path = pts[order]\n",
    "post = reorder_path(path)\n",
    "plt.plot(path[:,0], path[:,1]); plt.title('NN TSP path'); plt.show()\n",
    "plt.plot(post[:,0], post[:,1]); plt.title('Post-processed path'); plt.show()"
   ]
  }
 ],
 "metadata": {},
 "nbformat": 4,
 "nbformat_minor": 5
}
