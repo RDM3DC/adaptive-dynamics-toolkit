{
 "cells": [
  {
   "cell_type": "markdown",
   "id": "025f4036",
   "metadata": {},
   "source": [
    "# Adaptive π Geodesics (Toy)\n",
    "A minimal geodesic-like demo under a curvature field using Adaptive π."
   ]
  },
  {
   "cell_type": "code",
   "execution_count": null,
   "id": "c0f4a313",
   "metadata": {},
   "outputs": [],
   "source": [
    "import numpy as np, matplotlib.pyplot as plt\n",
    "from adaptive_dynamics.pi import AdaptivePi\n",
    "\n",
    "def k_field(x,y): return 0.35*np.exp(-0.8*(x**2+y**2)) - 0.05\n",
    "pi_a = AdaptivePi(curvature_fn=k_field)\n",
    "\n",
    "A = np.array([-1.2,-0.6]); B = np.array([1.1,0.7])\n",
    "line = np.stack([np.linspace(A[0],B[0],200), np.linspace(A[1],B[1],200)],1)\n",
    "\n",
    "p = A.copy(); path=[p.copy()]\n",
    "for _ in range(350):\n",
    "    v = B - p; v = v/np.linalg.norm(v)\n",
    "    k = k_field(p[0],p[1])\n",
    "    rot = np.array([[np.cos(0.7*k),-np.sin(0.7*k)],[np.sin(0.7*k),np.cos(0.7*k)]])\n",
    "    v = rot @ v\n",
    "    step = 0.01 * (pi_a.pi_a(p[0],p[1]) / np.pi)\n",
    "    p = p + step*v; path.append(p.copy())\n",
    "path = np.array(path)\n",
    "\n",
    "plt.plot(line[:,0],line[:,1],'--',label='straight A→B')\n",
    "plt.plot(path[:,0],path[:,1],label='toy geodesic'); plt.scatter([A[0],B[0]],[A[1],B[1]])\n",
    "plt.gca().set_aspect('equal','box'); plt.legend(); plt.show()"
   ]
  }
 ],
 "metadata": {},
 "nbformat": 4,
 "nbformat_minor": 5
}
