{
 "cells": [
  {
   "cell_type": "markdown",
   "id": "dceb45fa",
   "metadata": {},
   "source": [
    "# ATC Text Compression #4\n",
    "Roundtrip encode/decode with a repeated phrase x30."
   ]
  },
  {
   "cell_type": "code",
   "execution_count": null,
   "id": "d58d5f99",
   "metadata": {},
   "outputs": [],
   "source": [
    "from adaptive_dynamics.compress import atc\n",
    "s = ('In curved spaces, constants may adapt locally. ' * 30)\n",
    "enc = atc.encode_text(s); dec = atc.decode_text(enc)\n",
    "ratio = len(enc)/len(s)\n",
    "print('Encoded bytes:', len(enc), 'Raw chars:', len(s), 'Ratio:', round(ratio,3))\n",
    "print('Roundtrip OK:', dec == s)"
   ]
  }
 ],
 "metadata": {},
 "nbformat": 4,
 "nbformat_minor": 5
}
