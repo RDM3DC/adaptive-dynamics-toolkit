{
 "cells": [
  {
   "cell_type": "markdown",
   "id": "bd220e56",
   "metadata": {},
   "source": [
    "# ARP Optimizer on MNIST (PyTorch)\n",
    "This notebook trains a simple classifier on MNIST using the ARP optimizer from the toolkit."
   ]
  },
  {
   "cell_type": "code",
   "execution_count": null,
   "id": "b89ff08c",
   "metadata": {},
   "outputs": [],
   "source": [
    "import torch, torch.nn as nn\n",
    "from torch.utils.data import DataLoader\n",
    "from torchvision import datasets, transforms\n",
    "from adaptive_dynamics.arp.optimizers import ARP\n",
    "\n",
    "device = 'cuda' if torch.cuda.is_available() else 'cpu'\n",
    "batch_size = 128\n",
    "epochs = 3\n",
    "\n",
    "# Data\n",
    "transform = transforms.Compose([\n",
    "    transforms.ToTensor(),\n",
    "])\n",
    "train_ds = datasets.MNIST(root='./data', train=True, transform=transform, download=True)\n",
    "test_ds  = datasets.MNIST(root='./data', train=False, transform=transform, download=True)\n",
    "train_loader = DataLoader(train_ds, batch_size=batch_size, shuffle=True)\n",
    "test_loader  = DataLoader(test_ds, batch_size=batch_size)"
   ]
  },
  {
   "cell_type": "code",
   "execution_count": null,
   "id": "317be4cc",
   "metadata": {},
   "outputs": [],
   "source": [
    "model = nn.Sequential(\n",
    "    nn.Flatten(),\n",
    "    nn.Linear(28*28, 256), nn.ReLU(),\n",
    "    nn.Linear(256, 10)\n",
    ").to(device)\n",
    "opt = ARP(model.parameters(), lr=3e-3, alpha=0.01, mu=0.001)\n",
    "criterion = nn.CrossEntropyLoss()\n",
    "\n",
    "def evaluate():\n",
    "    model.eval(); correct=0; total=0\n",
    "    with torch.no_grad():\n",
    "        for X,y in test_loader:\n",
    "            X,y = X.to(device), y.to(device)\n",
    "            logits = model(X)\n",
    "            pred = logits.argmax(dim=1)\n",
    "            correct += (pred==y).sum().item()\n",
    "            total += y.numel()\n",
    "    return correct/total\n",
    "\n",
    "for epoch in range(1, epochs+1):\n",
    "    model.train()\n",
    "    for X,y in train_loader:\n",
    "        X,y = X.to(device), y.to(device)\n",
    "        logits = model(X)\n",
    "        loss = criterion(logits, y)\n",
    "        loss.backward(); opt.step(); opt.zero_grad()\n",
    "    acc = evaluate()\n",
    "    print(f'Epoch {epoch}: test acc={acc:.3f}')"
   ]
  },
  {
   "cell_type": "markdown",
   "id": "caa3f686",
   "metadata": {},
   "source": [
    "Try adjusting `alpha` and `mu` to see how the ARP conductance state influences learning dynamics."
   ]
  }
 ],
 "metadata": {
  "language_info": {
   "name": "python"
  }
 },
 "nbformat": 4,
 "nbformat_minor": 5
}
