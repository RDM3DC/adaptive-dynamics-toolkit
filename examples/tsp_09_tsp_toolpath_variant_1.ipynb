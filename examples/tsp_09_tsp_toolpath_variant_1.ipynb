{
 "cells": [
  {
   "cell_type": "markdown",
   "id": "8d6c77f3",
   "metadata": {},
   "source": [
    "# TSP Toolpath Variant #1\n",
    "Nearest-neighbor tour on 90 points (seed=101)."
   ]
  },
  {
   "cell_type": "code",
   "execution_count": null,
   "id": "62736c3d",
   "metadata": {},
   "outputs": [],
   "source": [
    "import numpy as np, matplotlib.pyplot as plt\n",
    "from adaptive_dynamics.tsp.slicer import optimize_path\n",
    "from adaptive_dynamics.tsp.postproc import reorder_path\n",
    "rng = np.random.default_rng(101)\n",
    "pts = rng.uniform(-1,1,(90,2))\n",
    "order = optimize_path(pts); path = pts[order]\n",
    "post = reorder_path(path)\n",
    "plt.plot(path[:,0], path[:,1]); plt.title('NN TSP path'); plt.show()\n",
    "plt.plot(post[:,0], post[:,1]); plt.title('Post-processed path'); plt.show()"
   ]
  }
 ],
 "metadata": {},
 "nbformat": 4,
 "nbformat_minor": 5
}
