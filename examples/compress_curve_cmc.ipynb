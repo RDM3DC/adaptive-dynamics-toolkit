{
 "cells": [
  {
   "cell_type": "markdown",
   "id": "4cdb5871",
   "metadata": {},
   "source": [
    "# Adaptive Curve Compression (CMC) — Spiral Demo"
   ]
  },
  {
   "cell_type": "code",
   "execution_count": null,
   "id": "2b81fa5d",
   "metadata": {},
   "outputs": [],
   "source": [
    "# Placeholder until compression.cmc module exists.\n",
    "import numpy as np, matplotlib.pyplot as plt\n",
    "t = np.linspace(0, 6*np.pi, 600)\n",
    "curve = np.stack([0.1*t*np.cos(t), 0.1*t*np.sin(t)],1)\n",
    "rec = curve + 0.0005*np.random.default_rng(0).normal(size=curve.shape)\n",
    "plt.plot(curve[:,0], curve[:,1], label='orig'); plt.plot(rec[:,0], rec[:,1], label='recon', alpha=0.7)\n",
    "plt.title('CMC spiral encode/decode (placeholder)'); plt.legend(); plt.show()"
   ]
  }
 ],
 "metadata": {},
 "nbformat": 4,
 "nbformat_minor": 5
}
