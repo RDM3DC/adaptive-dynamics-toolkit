{
 "cells": [
  {
   "cell_type": "markdown",
   "id": "26c992c9",
   "metadata": {},
   "source": [
    "# TSP Toolpath Demo"
   ]
  },
  {
   "cell_type": "code",
   "execution_count": null,
   "id": "f56710dc",
   "metadata": {},
   "outputs": [],
   "source": [
    "# Placeholder until tsp optimization utilities implemented.\n",
    "import numpy as np, matplotlib.pyplot as plt\n",
    "rng = np.random.default_rng(0); pts = rng.uniform(-1,1,(100,2))\n",
    "order = np.arange(len(pts))  # identity path placeholder\n",
    "path = pts[order]\n",
    "plt.plot(path[:,0], path[:,1]); plt.title('NN TSP path (placeholder)'); plt.show()"
   ]
  }
 ],
 "metadata": {},
 "nbformat": 4,
 "nbformat_minor": 5
}
