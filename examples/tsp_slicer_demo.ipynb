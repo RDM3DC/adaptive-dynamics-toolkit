{
 "cells": [
  {
   "cell_type": "markdown",
   "id": "5f7cc77c",
   "metadata": {},
   "source": [
    "# TSP Slicer Demo\n",
    "\n",
    "This notebook demonstrates the TSP (Traveling Salesman Problem) slicer module from Adaptive Dynamics Toolkit for 3D printing toolpath optimization."
   ]
  },
  {
   "cell_type": "code",
   "execution_count": null,
   "id": "1e18fe2f",
   "metadata": {},
   "outputs": [],
   "source": [
    "import numpy as np\n",
    "import matplotlib.pyplot as plt\n",
    "from mpl_toolkits.mplot3d import Axes3D\n",
    "import os\n",
    "from time import time\n",
    "\n",
    "# Import the TSP slicer module\n",
    "from adaptive_dynamics.tsp.slicer import Slicer, SliceConfig, OptimizationMethod"
   ]
  },
  {
   "cell_type": "markdown",
   "id": "7ccd02b9",
   "metadata": {},
   "source": [
    "## 1. Configure the Slicer\n",
    "\n",
    "First, let's configure our slicer with appropriate parameters for 3D printing."
   ]
  },
  {
   "cell_type": "code",
   "execution_count": null,
   "id": "867a4681",
   "metadata": {},
   "outputs": [],
   "source": [
    "# Create slicer configuration\n",
    "config = SliceConfig(\n",
    "    layer_height=0.2,  # mm\n",
    "    wall_thickness=1.2,  # mm\n",
    "    infill_density=0.15,  # 15% infill\n",
    "    optimization_method=OptimizationMethod.TWO_OPT,  # Use 2-opt algorithm for path optimization\n",
    "    max_optimization_time=5.0,  # seconds\n",
    "    adaptive_layer_height=True,  # Use adaptive layer heights\n",
    "    min_layer_height=0.1,  # mm\n",
    "    max_layer_height=0.3  # mm\n",
    ")\n",
    "\n",
    "# Create slicer instance\n",
    "slicer = Slicer(config)\n",
    "\n",
    "# Print configuration\n",
    "print(\"Slicer Configuration:\")\n",
    "print(f\"  Layer Height: {config.layer_height} mm\")\n",
    "print(f\"  Wall Thickness: {config.wall_thickness} mm\")\n",
    "print(f\"  Infill Density: {config.infill_density * 100}%\")\n",
    "print(f\"  Optimization Method: {config.optimization_method.value}\")\n",
    "print(f\"  Adaptive Layer Height: {config.adaptive_layer_height}\")"
   ]
  },
  {
   "cell_type": "markdown",
   "id": "037ce107",
   "metadata": {},
   "source": [
    "## 2. Load a 3D Model\n",
    "\n",
    "For this demo, we'll use a mock 3D model since we don't have access to actual STL files in this environment."
   ]
  },
  {
   "cell_type": "code",
   "execution_count": null,
   "id": "3baf48f6",
   "metadata": {},
   "outputs": [],
   "source": [
    "# Create a temporary file path for demo purposes\n",
    "mock_stl_path = \"mock_model.stl\"\n",
    "\n",
    "# Load the model (this is a mock implementation)\n",
    "start_time = time()\n",
    "slicer.load_mesh(mock_stl_path)\n",
    "load_time = time() - start_time\n",
    "\n",
    "print(f\"Loaded model in {load_time:.3f} seconds\")\n",
    "print(f\"Model bounds: {slicer.mesh['bounds']}\")"
   ]
  },
  {
   "cell_type": "markdown",
   "id": "d1efb448",
   "metadata": {},
   "source": [
    "## 3. Generate Slices\n",
    "\n",
    "Now, let's slice the model into horizontal layers."
   ]
  },
  {
   "cell_type": "code",
   "execution_count": null,
   "id": "41830c4c",
   "metadata": {},
   "outputs": [],
   "source": [
    "# Generate slices\n",
    "start_time = time()\n",
    "num_layers = slicer.generate_slices()\n",
    "slice_time = time() - start_time\n",
    "\n",
    "print(f\"Generated {num_layers} layers in {slice_time:.3f} seconds\")\n",
    "print(f\"Z range: {slicer.layers[0]['z']:.2f} mm to {slicer.layers[-1]['z']:.2f} mm\")"
   ]
  },
  {
   "cell_type": "markdown",
   "id": "562a63f0",
   "metadata": {},
   "source": [
    "## 4. Visualize Slices\n",
    "\n",
    "Let's visualize a few of the generated slices to see the contours."
   ]
  },
  {
   "cell_type": "code",
   "execution_count": null,
   "id": "53dc51b8",
   "metadata": {},
   "outputs": [],
   "source": [
    "def plot_layer(layer, title=None):\n",
    "    \"\"\"Plot a single layer's contours.\"\"\"\n",
    "    plt.figure(figsize=(8, 8))\n",
    "    \n",
    "    # Plot each contour in the layer\n",
    "    for i, contour in enumerate(layer[\"contours\"]):\n",
    "        plt.plot(contour[:, 0], contour[:, 1], 'b-', linewidth=2, \n",
    "                 label=f\"Contour {i+1}\" if i < 3 else None)\n",
    "    \n",
    "    plt.axis('equal')\n",
    "    plt.grid(True)\n",
    "    plt.xlabel('X (mm)')\n",
    "    plt.ylabel('Y (mm)')\n",
    "    \n",
    "    if title:\n",
    "        plt.title(title)\n",
    "    else:\n",
    "        plt.title(f\"Layer at Z = {layer['z']:.2f} mm\")\n",
    "    \n",
    "    # Only show legend if we have a reasonable number of contours\n",
    "    if len(layer[\"contours\"]) <= 3:\n",
    "        plt.legend()\n",
    "    \n",
    "    plt.show()\n",
    "\n",
    "# Visualize a few layers\n",
    "layers_to_show = [0, len(slicer.layers)//2, len(slicer.layers)-1]  # First, middle, last\n",
    "\n",
    "for layer_idx in layers_to_show:\n",
    "    layer = slicer.layers[layer_idx]\n",
    "    plot_layer(layer, f\"Layer {layer_idx+1} of {len(slicer.layers)} (Z = {layer['z']:.2f} mm)\")"
   ]
  },
  {
   "cell_type": "markdown",
   "id": "d301f9b7",
   "metadata": {},
   "source": [
    "## 5. Optimize Toolpaths\n",
    "\n",
    "Now, let's optimize the toolpaths for each layer to minimize travel movements."
   ]
  },
  {
   "cell_type": "code",
   "execution_count": null,
   "id": "6b4b4f4a",
   "metadata": {},
   "outputs": [],
   "source": [
    "# Optimize paths\n",
    "start_time = time()\n",
    "total_segments = slicer.optimize_paths()\n",
    "optimization_time = time() - start_time\n",
    "\n",
    "print(f\"Optimized paths with {total_segments} segments in {optimization_time:.3f} seconds\")"
   ]
  },
  {
   "cell_type": "markdown",
   "id": "121e609d",
   "metadata": {},
   "source": [
    "## 6. Visualize Optimized Toolpaths\n",
    "\n",
    "Let's visualize the optimized toolpaths for a few layers."
   ]
  },
  {
   "cell_type": "code",
   "execution_count": null,
   "id": "73082705",
   "metadata": {},
   "outputs": [],
   "source": [
    "def plot_optimized_layer(layer, title=None):\n",
    "    \"\"\"Plot a layer's contours and optimized path.\"\"\"\n",
    "    plt.figure(figsize=(10, 8))\n",
    "    \n",
    "    # Plot contours\n",
    "    for contour in layer[\"contours\"]:\n",
    "        plt.plot(contour[:, 0], contour[:, 1], 'b-', alpha=0.3, linewidth=1)\n",
    "    \n",
    "    # Plot optimized path\n",
    "    path = layer[\"paths\"]\n",
    "    if len(path) > 0:\n",
    "        plt.plot(path[:, 0], path[:, 1], 'r-', linewidth=2, label=\"Optimized Path\")\n",
    "        plt.plot(path[0, 0], path[0, 1], 'go', markersize=8, label=\"Start Point\")\n",
    "        plt.plot(path[-1, 0], path[-1, 1], 'ro', markersize=8, label=\"End Point\")\n",
    "    \n",
    "    plt.axis('equal')\n",
    "    plt.grid(True)\n",
    "    plt.xlabel('X (mm)')\n",
    "    plt.ylabel('Y (mm)')\n",
    "    \n",
    "    if title:\n",
    "        plt.title(title)\n",
    "    else:\n",
    "        plt.title(f\"Optimized Path for Layer at Z = {layer['z']:.2f} mm\")\n",
    "    \n",
    "    plt.legend()\n",
    "    plt.show()\n",
    "\n",
    "# Visualize optimized paths for a few layers\n",
    "for layer_idx in layers_to_show:\n",
    "    layer = slicer.layers[layer_idx]\n",
    "    plot_optimized_layer(layer, f\"Optimized Layer {layer_idx+1} (Z = {layer['z']:.2f} mm)\")"
   ]
  },
  {
   "cell_type": "markdown",
   "id": "0ee3168d",
   "metadata": {},
   "source": [
    "## 7. Visualize Multiple Layers in 3D\n",
    "\n",
    "Let's create a 3D visualization showing multiple layers stacked."
   ]
  },
  {
   "cell_type": "code",
   "execution_count": null,
   "id": "c82ff557",
   "metadata": {},
   "outputs": [],
   "source": [
    "def plot_3d_layers(layers, num_layers=5):\n",
    "    \"\"\"Plot multiple layers in 3D.\"\"\"\n",
    "    fig = plt.figure(figsize=(12, 10))\n",
    "    ax = fig.add_subplot(111, projection='3d')\n",
    "    \n",
    "    # Select layers to show\n",
    "    step = max(1, len(layers) // num_layers)\n",
    "    layers_to_plot = layers[::step]\n",
    "    if len(layers_to_plot) > num_layers:\n",
    "        layers_to_plot = layers_to_plot[:num_layers]\n",
    "    \n",
    "    # Generate a color map for layers\n",
    "    colors = plt.cm.viridis(np.linspace(0, 1, len(layers_to_plot)))\n",
    "    \n",
    "    for i, layer in enumerate(layers_to_plot):\n",
    "        z = layer[\"z\"]\n",
    "        \n",
    "        # Plot contours\n",
    "        for contour in layer[\"contours\"]:\n",
    "            x = contour[:, 0]\n",
    "            y = contour[:, 1]\n",
    "            z_array = np.full_like(x, z)\n",
    "            ax.plot(x, y, z_array, color=colors[i], alpha=0.7, linewidth=1)\n",
    "        \n",
    "        # Plot optimized path if available\n",
    "        path = layer.get(\"paths\", [])\n",
    "        if len(path) > 0:\n",
    "            x = path[:, 0]\n",
    "            y = path[:, 1]\n",
    "            z_array = np.full_like(x, z)\n",
    "            ax.plot(x, y, z_array, 'r-', linewidth=2, alpha=0.8)\n",
    "    \n",
    "    ax.set_xlabel('X (mm)')\n",
    "    ax.set_ylabel('Y (mm)')\n",
    "    ax.set_zlabel('Z (mm)')\n",
    "    ax.set_title('3D View of Selected Layers')\n",
    "    \n",
    "    # Create a legend for layer colors\n",
    "    from matplotlib.lines import Line2D\n",
    "    legend_elements = []\n",
    "    for i, layer in enumerate(layers_to_plot):\n",
    "        legend_elements.append(Line2D([0], [0], color=colors[i], lw=2, \n",
    "                                     label=f\"Z = {layer['z']:.1f} mm\"))\n",
    "    ax.legend(handles=legend_elements, loc='upper right')\n",
    "    \n",
    "    plt.tight_layout()\n",
    "    plt.show()\n",
    "\n",
    "# Plot 3D view of multiple layers\n",
    "plot_3d_layers(slicer.layers, num_layers=5)"
   ]
  },
  {
   "cell_type": "markdown",
   "id": "280a3c8f",
   "metadata": {},
   "source": [
    "## 8. Export G-code\n",
    "\n",
    "Now, let's export the optimized toolpaths as G-code for 3D printing."
   ]
  },
  {
   "cell_type": "code",
   "execution_count": null,
   "id": "7b7d0e5e",
   "metadata": {},
   "outputs": [],
   "source": [
    "# Define output file path\n",
    "gcode_path = \"output_model.gcode\"\n",
    "\n",
    "# Export G-code\n",
    "start_time = time()\n",
    "success = slicer.export_gcode(gcode_path)\n",
    "export_time = time() - start_time\n",
    "\n",
    "if success:\n",
    "    print(f\"G-code successfully exported to {gcode_path} in {export_time:.3f} seconds\")\n",
    "else:\n",
    "    print(\"Failed to export G-code\")"
   ]
  },
  {
   "cell_type": "markdown",
   "id": "ff3dc87c",
   "metadata": {},
   "source": [
    "## 9. Print Statistics\n",
    "\n",
    "Finally, let's print some statistics about the sliced model."
   ]
  },
  {
   "cell_type": "code",
   "execution_count": null,
   "id": "aaeb8ea7",
   "metadata": {},
   "outputs": [],
   "source": [
    "# Get statistics\n",
    "stats = slicer.get_statistics()\n",
    "\n",
    "# Print formatted statistics\n",
    "print(\"\\nModel Statistics:\")\n",
    "print(f\"  Number of Layers: {stats['num_layers']}\")\n",
    "print(f\"  Total Path Length: {stats['total_path_length_mm']:.2f} mm\")\n",
    "print(f\"  Total Path Segments: {stats['total_path_segments']}\")\n",
    "\n",
    "# Calculate print time in a readable format\n",
    "print_time_s = stats[\"estimated_print_time_s\"]\n",
    "hours = int(print_time_s // 3600)\n",
    "minutes = int((print_time_s % 3600) // 60)\n",
    "seconds = int(print_time_s % 60)\n",
    "print(f\"  Estimated Print Time: {hours}h {minutes}m {seconds}s\")\n",
    "\n",
    "# Calculate filament length\n",
    "filament_diameter_mm = 1.75\n",
    "filament_volume_mm3 = stats[\"estimated_filament_volume_mm3\"]\n",
    "filament_length_mm = filament_volume_mm3 / (np.pi * (filament_diameter_mm/2)**2)\n",
    "print(f\"  Estimated Filament Length: {filament_length_mm/1000:.2f} m\")\n",
    "print(f\"  Estimated Filament Volume: {filament_volume_mm3/1000:.2f} cm³\")\n",
    "\n",
    "# Assuming PLA density of 1.24 g/cm³\n",
    "pla_density_g_cm3 = 1.24\n",
    "filament_weight_g = (filament_volume_mm3 / 1000) * pla_density_g_cm3\n",
    "print(f\"  Estimated Filament Weight: {filament_weight_g:.2f} g (assuming PLA)\")"
   ]
  },
  {
   "cell_type": "markdown",
   "id": "c8247c34",
   "metadata": {},
   "source": [
    "## 10. Compare Optimization Methods\n",
    "\n",
    "Let's compare different path optimization methods to see how they perform."
   ]
  },
  {
   "cell_type": "code",
   "execution_count": null,
   "id": "a1accf9e",
   "metadata": {},
   "outputs": [],
   "source": [
    "def compare_optimization_methods(layer_idx=10):\n",
    "    \"\"\"Compare different optimization methods on a single layer.\"\"\"\n",
    "    methods = [\n",
    "        OptimizationMethod.NEAREST_NEIGHBOR,\n",
    "        OptimizationMethod.TWO_OPT\n",
    "    ]\n",
    "    \n",
    "    # Get the selected layer\n",
    "    layer = slicer.layers[layer_idx]\n",
    "    contours = layer[\"contours\"]\n",
    "    \n",
    "    # Extract all points that need to be visited\n",
    "    all_points = []\n",
    "    for contour in contours:\n",
    "        step = max(1, len(contour) // 10)  # Take ~10 points per contour\n",
    "        sampled_points = contour[::step]\n",
    "        all_points.extend(sampled_points)\n",
    "    \n",
    "    all_points = np.array(all_points)\n",
    "    \n",
    "    # Plot comparison\n",
    "    fig, axes = plt.subplots(1, len(methods), figsize=(15, 5))\n",
    "    \n",
    "    for i, method in enumerate(methods):\n",
    "        ax = axes[i]\n",
    "        \n",
    "        # Create a temporary slicer with this method\n",
    "        temp_config = SliceConfig(optimization_method=method)\n",
    "        temp_slicer = Slicer(temp_config)\n",
    "        \n",
    "        # Optimize the path using this method\n",
    "        start_time = time()\n",
    "        if method == OptimizationMethod.NEAREST_NEIGHBOR:\n",
    "            path = temp_slicer._nearest_neighbor_tsp(all_points)\n",
    "        elif method == OptimizationMethod.TWO_OPT:\n",
    "            path = temp_slicer._two_opt_tsp(all_points)\n",
    "        else:\n",
    "            path = temp_slicer._nearest_neighbor_tsp(all_points)\n",
    "        \n",
    "        optimization_time = time() - start_time\n",
    "        \n",
    "        # Calculate path length\n",
    "        path_length = 0.0\n",
    "        for j in range(1, len(path)):\n",
    "            path_length += np.sqrt(np.sum((path[j] - path[j-1])**2))\n",
    "        \n",
    "        # Plot contours\n",
    "        for contour in contours:\n",
    "            ax.plot(contour[:, 0], contour[:, 1], 'b-', alpha=0.2)\n",
    "        \n",
    "        # Plot path\n",
    "        ax.plot(path[:, 0], path[:, 1], 'r-', linewidth=1.5)\n",
    "        ax.plot(path[0, 0], path[0, 1], 'go', markersize=6)\n",
    "        \n",
    "        ax.set_title(f\"{method.value}\\nTime: {optimization_time:.3f}s, Length: {path_length:.1f}mm\")\n",
    "        ax.set_aspect('equal')\n",
    "        ax.grid(True)\n",
    "    \n",
    "    plt.tight_layout()\n",
    "    plt.show()\n",
    "\n",
    "# Compare optimization methods\n",
    "compare_optimization_methods()"
   ]
  },
  {
   "cell_type": "markdown",
   "id": "c26eb958",
   "metadata": {},
   "source": [
    "## Conclusion\n",
    "\n",
    "In this notebook, we've demonstrated the capabilities of the Adaptive Dynamics Toolkit's TSP Slicer module for 3D printing toolpath optimization. Key features include:\n",
    "\n",
    "1. Slicing 3D models into horizontal layers\n",
    "2. Optimizing toolpaths using various TSP algorithms\n",
    "3. Exporting G-code for 3D printing\n",
    "4. Providing print statistics and visualizations\n",
    "\n",
    "For real-world applications, you'd want to use a proper 3D mesh library to handle STL/OBJ files and implement more sophisticated slicing algorithms, but this demonstrates the core concepts behind the module."
   ]
  }
 ],
 "metadata": {
  "language_info": {
   "name": "python"
  }
 },
 "nbformat": 4,
 "nbformat_minor": 5
}
