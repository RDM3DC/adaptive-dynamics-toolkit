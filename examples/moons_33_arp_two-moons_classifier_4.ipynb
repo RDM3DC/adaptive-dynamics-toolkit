{
 "cells": [
  {
   "cell_type": "markdown",
   "id": "c3694ed1",
   "metadata": {},
   "source": [
    "# ARP Two-Moons Classifier #4\n",
    "Train a small classifier on two-moons with noise=0.08, hidden=32."
   ]
  },
  {
   "cell_type": "code",
   "execution_count": null,
   "id": "0a386884",
   "metadata": {},
   "outputs": [],
   "source": [
    "import torch, math, matplotlib.pyplot as plt\n",
    "from adaptive_dynamics.arp.optimizers import ARP\n",
    "device='cuda' if torch.cuda.is_available() else 'cpu'\n",
    "\n",
    "def two_moons(n=560, noise=0.08):\n",
    "    t = torch.rand(n)*math.pi\n",
    "    x1 = torch.stack([torch.cos(t), torch.sin(t)],1)\n",
    "    x2 = torch.stack([1-torch.cos(t), 1-torch.sin(t)-0.5],1)\n",
    "    X = torch.cat([x1,x2],0) + noise*torch.randn(2*n,2)\n",
    "    y = torch.cat([torch.zeros(n,dtype=torch.long), torch.ones(n,dtype=torch.long)],0)\n",
    "    return X,y\n",
    "\n",
    "X,y = two_moons()\n",
    "plt.figure(); plt.scatter(X[:,0], X[:,1], c=y, s=8); plt.title('Two Moons'); plt.show()\n",
    "\n",
    "model = torch.nn.Sequential(\n",
    "    torch.nn.Linear(2, 32), torch.nn.ReLU(),\n",
    "    torch.nn.Linear(32, 2)\n",
    ").to(device)\n",
    "\n",
    "opt = ARP(model.parameters(), lr=0.006, alpha=0.02, mu=0.002)\n",
    "loss_fn = torch.nn.CrossEntropyLoss()\n",
    "X,y = X.to(device), y.to(device)\n",
    "\n",
    "for epoch in range(1, 61):\n",
    "    logits = model(X); loss = loss_fn(logits, y)\n",
    "    loss.backward(); opt.step(); model.zero_grad(set_to_none=True)\n",
    "    if epoch % 15 == 0:\n",
    "        acc = (logits.argmax(1)==y).float().mean().item()\n",
    "        print(f'epoch {epoch} loss={loss.item():.4f} acc={acc:.3f}')"
   ]
  }
 ],
 "metadata": {},
 "nbformat": 4,
 "nbformat_minor": 5
}
