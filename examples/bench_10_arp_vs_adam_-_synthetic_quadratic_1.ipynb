{
 "cells": [
  {
   "cell_type": "markdown",
   "id": "061a7421",
   "metadata": {},
   "source": [
    "# ARP vs Adam — Synthetic Quadratic #1\n",
    "Noisy quadratic loss with T=220, noise=0.018."
   ]
  },
  {
   "cell_type": "code",
   "execution_count": null,
   "id": "82165e68",
   "metadata": {},
   "outputs": [],
   "source": [
    "import numpy as np, matplotlib.pyplot as plt\n",
    "from numpy.random import default_rng\n",
    "rng = default_rng(1)\n",
    "d = 20\n",
    "eigs = np.linspace(0.5,4.0,d)\n",
    "A = np.diag(eigs)\n",
    "w_star = rng.normal(0,1.0,size=d)\n",
    "w0 = rng.normal(0,2.0,size=d)\n",
    "noise_sigma = 0.018\n",
    "\n",
    "def loss(w):\n",
    "    z = w - w_star\n",
    "    return 0.5 * float(z.T @ A @ z)\n",
    "\n",
    "def grad(w):\n",
    "    z = w - w_star\n",
    "    g = A @ z\n",
    "    if noise_sigma>0: g = g + rng.normal(0, noise_sigma, size=g.shape)\n",
    "    return g\n",
    "\n",
    "def run_adam(T=220, lr=0.05, b1=0.9, b2=0.999, eps=1e-8):\n",
    "    w = w0.copy(); m = np.zeros_like(w); v = np.zeros_like(w); hist=[]\n",
    "    for t in range(1, T+1):\n",
    "        g=grad(w); m=b1*m+(1-b1)*g; v=b2*v+(1-b2)*(g*g)\n",
    "        m_hat=m/(1-b1**t); v_hat=v/(1-b2**t)\n",
    "        w = w - lr*m_hat/(np.sqrt(v_hat)+eps)\n",
    "        hist.append(loss(w))\n",
    "    return np.array(hist)\n",
    "\n",
    "def run_arp(T=220, lr=0.1, alpha=0.02, mu=0.002):\n",
    "    w = w0.copy(); G = np.zeros_like(w); hist=[]\n",
    "    for _ in range(T):\n",
    "        g=grad(w); G = G + alpha*np.abs(g) - mu*G; G = np.maximum(G,0.0)\n",
    "        w = w - lr * g / (1.0 + G)\n",
    "        hist.append(loss(w))\n",
    "    return np.array(hist)\n",
    "\n",
    "adam = run_adam(); arp = run_arp()\n",
    "plt.figure(); plt.yscale('log')\n",
    "plt.plot(adam, label='Adam'); plt.plot(arp, label='ARP-style')\n",
    "plt.title('Synthetic quadratic (log loss)'); plt.xlabel('step'); plt.ylabel('loss'); plt.legend(); plt.show()"
   ]
  }
 ],
 "metadata": {},
 "nbformat": 4,
 "nbformat_minor": 5
}
