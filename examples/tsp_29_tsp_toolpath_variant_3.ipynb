{
 "cells": [
  {
   "cell_type": "markdown",
   "id": "c3d6f1bf",
   "metadata": {},
   "source": [
    "# TSP Toolpath Variant #3\n",
    "Nearest-neighbor tour on 110 points (seed=103)."
   ]
  },
  {
   "cell_type": "code",
   "execution_count": null,
   "id": "9cf0aa52",
   "metadata": {},
   "outputs": [],
   "source": [
    "import numpy as np, matplotlib.pyplot as plt\n",
    "from adaptive_dynamics.tsp.slicer import optimize_path\n",
    "from adaptive_dynamics.tsp.postproc import reorder_path\n",
    "rng = np.random.default_rng(103)\n",
    "pts = rng.uniform(-1,1,(110,2))\n",
    "order = optimize_path(pts); path = pts[order]\n",
    "post = reorder_path(path)\n",
    "plt.plot(path[:,0], path[:,1]); plt.title('NN TSP path'); plt.show()\n",
    "plt.plot(post[:,0], post[:,1]); plt.title('Post-processed path'); plt.show()"
   ]
  }
 ],
 "metadata": {},
 "nbformat": 4,
 "nbformat_minor": 5
}
