{
 "cells": [
  {
   "cell_type": "markdown",
   "id": "ee071fca",
   "metadata": {},
   "source": [
    "# Adaptive Gravity Rotation Curve #3\n",
    "Toy rotation curve with k=0.16, r0=1.4."
   ]
  },
  {
   "cell_type": "code",
   "execution_count": null,
   "id": "5e48d1f8",
   "metadata": {},
   "outputs": [],
   "source": [
    "import numpy as np, matplotlib.pyplot as plt\n",
    "from adaptive_dynamics.sim.gravity import AdaptiveGravity, adaptive_G\n",
    "g = AdaptiveGravity(lambda r: adaptive_G(r, G0=1.0, k=0.16, r0=1.4))\n",
    "r = np.linspace(0.2, 12.0, 300)\n",
    "plt.plot(r, g.circular_velocity(r), label='Adaptive v(r)')\n",
    "plt.xlabel('r'); plt.ylabel('v'); plt.title('Adaptive rotation curve (toy)'); plt.legend(); plt.show()"
   ]
  }
 ],
 "metadata": {},
 "nbformat": 4,
 "nbformat_minor": 5
}
