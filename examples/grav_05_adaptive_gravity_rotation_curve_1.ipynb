{
 "cells": [
  {
   "cell_type": "markdown",
   "id": "e93d357d",
   "metadata": {},
   "source": [
    "# Adaptive Gravity Rotation Curve #1\n",
    "Toy rotation curve with k=0.12, r0=1.0."
   ]
  },
  {
   "cell_type": "code",
   "execution_count": null,
   "id": "e19e9bed",
   "metadata": {},
   "outputs": [],
   "source": [
    "import numpy as np, matplotlib.pyplot as plt\n",
    "from adaptive_dynamics.sim.gravity import AdaptiveGravity, adaptive_G\n",
    "g = AdaptiveGravity(lambda r: adaptive_G(r, G0=1.0, k=0.12, r0=1.0))\n",
    "r = np.linspace(0.2, 12.0, 300)\n",
    "plt.plot(r, g.circular_velocity(r), label='Adaptive v(r)')\n",
    "plt.xlabel('r'); plt.ylabel('v'); plt.title('Adaptive rotation curve (toy)'); plt.legend(); plt.show()"
   ]
  }
 ],
 "metadata": {},
 "nbformat": 4,
 "nbformat_minor": 5
}
