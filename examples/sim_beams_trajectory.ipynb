{
 "cells": [
  {
   "cell_type": "markdown",
   "id": "187d2a29",
   "metadata": {},
   "source": [
    "# Adaptive Charged-Particle Beam (Toy)"
   ]
  },
  {
   "cell_type": "code",
   "execution_count": null,
   "id": "467e63df",
   "metadata": {},
   "outputs": [],
   "source": [
    "# Placeholder example — beams module not implemented.\n",
    "import numpy as np, matplotlib.pyplot as plt\n",
    "theta = np.linspace(0, 10*np.pi, 1500)\n",
    "x = 0.01*theta * np.cos(theta)\n",
    "y = 0.01*theta * np.sin(theta)\n",
    "plt.plot(x, y); plt.title('Adaptive beam trajectory (toy)')\n",
    "plt.xlabel('x'); plt.ylabel('y'); plt.show()"
   ]
  }
 ],
 "metadata": {},
 "nbformat": 4,
 "nbformat_minor": 5
}
