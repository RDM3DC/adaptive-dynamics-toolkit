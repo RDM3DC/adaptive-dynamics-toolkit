{
 "cells": [
  {
   "cell_type": "markdown",
   "id": "bb16b12e",
   "metadata": {},
   "source": [
    "# Adaptive Gravity Rotation Curve #4\n",
    "Toy rotation curve with k=0.18, r0=1.6."
   ]
  },
  {
   "cell_type": "code",
   "execution_count": null,
   "id": "c56ce14c",
   "metadata": {},
   "outputs": [],
   "source": [
    "import numpy as np, matplotlib.pyplot as plt\n",
    "from adaptive_dynamics.sim.gravity import AdaptiveGravity, adaptive_G\n",
    "g = AdaptiveGravity(lambda r: adaptive_G(r, G0=1.0, k=0.18, r0=1.6))\n",
    "r = np.linspace(0.2, 12.0, 300)\n",
    "plt.plot(r, g.circular_velocity(r), label='Adaptive v(r)')\n",
    "plt.xlabel('r'); plt.ylabel('v'); plt.title('Adaptive rotation curve (toy)'); plt.legend(); plt.show()"
   ]
  }
 ],
 "metadata": {},
 "nbformat": 4,
 "nbformat_minor": 5
}
