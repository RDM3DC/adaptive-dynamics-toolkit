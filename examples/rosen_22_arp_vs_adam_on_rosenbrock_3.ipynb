{
 "cells": [
  {
   "cell_type": "markdown",
   "id": "adf5324f",
   "metadata": {},
   "source": [
    "# ARP vs Adam on Rosenbrock #3\n",
    "Compare ARP to Adam on the Rosenbrock function for 260 steps."
   ]
  },
  {
   "cell_type": "code",
   "execution_count": null,
   "id": "f0af0036",
   "metadata": {},
   "outputs": [],
   "source": [
    "import torch, matplotlib.pyplot as plt\n",
    "from adaptive_dynamics.arp.optimizers import ARP\n",
    "device='cuda' if torch.cuda.is_available() else 'cpu'\n",
    "\n",
    "def rosenbrock(x,a=1.0,b=100.0): return (a-x[0])**2 + b*(x[1]-x[0]**2)**2\n",
    "\n",
    "def run(opt_name='adam', steps=260, lr=1e-2, alpha=0.02, mu=0.002):\n",
    "    x = torch.tensor([-1.5,1.5], dtype=torch.float32, requires_grad=True, device=device)\n",
    "    opt = torch.optim.Adam([x], lr=lr) if opt_name=='adam' else ARP([x], lr=lr, alpha=alpha, mu=mu)\n",
    "    hist=[]\n",
    "    for _ in range(steps):\n",
    "        opt.zero_grad(); loss = rosenbrock(x); loss.backward(); opt.step(); hist.append(loss.item())\n",
    "    return hist\n",
    "\n",
    "adam = run('adam', lr=0.01)\n",
    "arp  = run('arp',  lr=0.07)\n",
    "plt.figure(); plt.yscale('log'); plt.plot(adam,label='Adam'); plt.plot(arp,label='ARP')\n",
    "plt.title('Rosenbrock loss (log)'); plt.xlabel('step'); plt.ylabel('loss'); plt.legend(); plt.show()"
   ]
  }
 ],
 "metadata": {},
 "nbformat": 4,
 "nbformat_minor": 5
}
