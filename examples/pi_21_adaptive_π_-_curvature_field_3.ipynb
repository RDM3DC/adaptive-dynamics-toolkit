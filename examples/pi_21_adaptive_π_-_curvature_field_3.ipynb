{
 "cells": [
  {
   "cell_type": "markdown",
   "id": "2e50a968",
   "metadata": {},
   "source": [
    "# Adaptive π — Curvature Field #3\n",
    "Toy curvature field with amplitude=0.55, baseline=-0.04.\n",
    "We visualize how `πₐ = π·(1 + 0.5·k)` changes circle circumference."
   ]
  },
  {
   "cell_type": "code",
   "execution_count": null,
   "id": "6d825674",
   "metadata": {},
   "outputs": [],
   "source": [
    "import numpy as np, matplotlib.pyplot as plt\n",
    "from adaptive_dynamics.pi import AdaptivePi\n",
    "amp = 0.55; base = -0.04\n",
    "\n",
    "def k_field(x,y): return amp*np.exp(-0.8*(x**2+y**2)) + base\n",
    "pi_a = AdaptivePi(curvature_fn=k_field)\n",
    "print('flat-limit:', np.isclose(AdaptivePi().pi_a(0.0,0.0), np.pi))\n",
    "\n",
    "r = 0.8; theta = np.linspace(0,2*np.pi,512)\n",
    "scale_val = pi_a.pi_a(0.0,0.0)/np.pi\n",
    "plt.figure(); plt.gca().set_aspect('equal','box')\n",
    "plt.plot(r*np.cos(theta), r*np.sin(theta), '--', label='Euclidean')\n",
    "plt.plot(scale_val*r*np.cos(theta), scale_val*r*np.sin(theta), label=f'Adaptive scale={scale_val:.3f}')\n",
    "plt.legend(); plt.title('Curved vs Euclidean circles'); plt.show()"
   ]
  }
 ],
 "metadata": {},
 "nbformat": 4,
 "nbformat_minor": 5
}
