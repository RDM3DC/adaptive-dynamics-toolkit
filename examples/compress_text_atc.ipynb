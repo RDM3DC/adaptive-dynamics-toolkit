{
 "cells": [
  {
   "cell_type": "markdown",
   "id": "24d3e857",
   "metadata": {},
   "source": [
    "# Adaptive Text Compression (ATC)"
   ]
  },
  {
   "cell_type": "code",
   "execution_count": null,
   "id": "a6c66546",
   "metadata": {},
   "outputs": [],
   "source": [
    "# Placeholder until compression.atc is implemented.\n",
    "s = ('In curved spaces, constants may adapt locally. ' * 4)\n",
    "enc = s.encode('utf-8')  # dummy stand-in\n",
    "dec = enc.decode('utf-8')\n",
    "ratio = len(enc)/len(s)\n",
    "print('Encoded bytes:', len(enc), 'Raw chars:', len(s), 'Ratio:', round(ratio,3))\n",
    "print('Roundtrip OK:', dec == s)"
   ]
  }
 ],
 "metadata": {},
 "nbformat": 4,
 "nbformat_minor": 5
}
