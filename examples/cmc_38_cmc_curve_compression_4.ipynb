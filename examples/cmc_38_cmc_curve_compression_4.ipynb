{
 "cells": [
  {
   "cell_type": "markdown",
   "id": "4bfc2b37",
   "metadata": {},
   "source": [
    "# CMC Curve Compression #4\n",
    "Spiral encode/decode with quant=0.0024."
   ]
  },
  {
   "cell_type": "code",
   "execution_count": null,
   "id": "086decb6",
   "metadata": {},
   "outputs": [],
   "source": [
    "import numpy as np, matplotlib.pyplot as plt\n",
    "from adaptive_dynamics.compress.cmc import encode_curve, decode_curve\n",
    "t = np.linspace(0, 6*np.pi, 600)\n",
    "curve = np.stack([0.1*t*np.cos(t), 0.1*t*np.sin(t)],1)\n",
    "enc = encode_curve(curve, quant=0.0024); rec = decode_curve(enc)\n",
    "plt.plot(curve[:,0], curve[:,1], label='orig')\n",
    "plt.plot(rec[:,0], rec[:,1], label='recon', alpha=0.7)\n",
    "plt.title('CMC spiral encode/decode'); plt.legend(); plt.show()"
   ]
  }
 ],
 "metadata": {},
 "nbformat": 4,
 "nbformat_minor": 5
}
